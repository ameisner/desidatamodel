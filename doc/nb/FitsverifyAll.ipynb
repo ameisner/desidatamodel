{
 "cells": [
  {
   "cell_type": "markdown",
   "id": "2eb68188-ab2c-4fd1-a8f7-e77658801dba",
   "metadata": {
    "tags": []
   },
   "source": [
    "# Run fitsverify"
   ]
  },
  {
   "cell_type": "code",
   "execution_count": 1,
   "id": "afce0339-a3b0-4630-80b7-7189850462ca",
   "metadata": {},
   "outputs": [],
   "source": [
    "import os\n",
    "import sys\n",
    "import re\n",
    "import shutil\n",
    "import subprocess as sp\n",
    "from configparser import ConfigParser\n",
    "from random import choice\n",
    "specprod = 'everest'\n",
    "specprod_path = os.path.join(os.environ['DESI_SPECTRO_REDUX'], specprod)"
   ]
  },
  {
   "cell_type": "markdown",
   "id": "213f4c80-60cd-4ff1-bef8-e77c6d380100",
   "metadata": {},
   "source": [
    "## Create input file"
   ]
  },
  {
   "cell_type": "code",
   "execution_count": 2,
   "id": "9a15009d-7365-48db-befd-3628d2418d00",
   "metadata": {},
   "outputs": [],
   "source": [
    "fits_files = os.path.join(os.environ['CSCRATCH'], f'{specprod}_fits.txt')\n",
    "if not os.path.exists(fits_files):\n",
    "    # os.chdir(specprod_path)\n",
    "    with open(fits_files, 'w') as out:\n",
    "        command = ['find', 'calibnight', 'exposures', 'healpix', 'preproc', 'tiles', 'zcatalog', '-type', 'f', '-name', '*.fits']\n",
    "        proc = sp.Popen(command, stdout=out, stderr=sp.DEVNULL, cwd=specprod_path)\n",
    "        status = proc.wait()"
   ]
  },
  {
   "cell_type": "markdown",
   "id": "1dbbd419-42b0-455b-9dd8-e5e846093ba2",
   "metadata": {},
   "source": [
    "## List of Regular Expressions"
   ]
  },
  {
   "cell_type": "code",
   "execution_count": 3,
   "id": "9c8bbd2c-4d51-4d52-86c9-5c9a85e4d63f",
   "metadata": {},
   "outputs": [],
   "source": [
    "parser = ConfigParser()\n",
    "parser.read_string(\"\"\"\n",
    "[top]\n",
    "exposures = exposures-everest\\.fits;exposures-SPECPROD.rst\n",
    "\n",
    "[calibnight]\n",
    "fiberflatnight = calibnight/[0-9]{8}/fiberflatnight-[brz][0-9]-[0-9]{8}\\.fits;calibnight/NIGHT/fiberflatnight-CAMERA-EXPID.rst\n",
    "psfnight = calibnight/[0-9]{8}/psfnight-[brz][0-9]-[0-9]{8}\\.fits;calibnight/NIGHT/psfnight-CAMERA-EXPID.rst\n",
    "\n",
    "[exposures]\n",
    "cframe = exposures/[0-9]{8}/[0-9]{8}/cframe-[brz][0-9]-[0-9]{8}\\.fits;exposures/NIGHT/EXPID/cframe-CAMERA-EXPID.rst\n",
    "exposure-qa = exposures/[0-9]{8}/[0-9]{8}/exposure-qa-[0-9]{8}\\.fits;exposures/NIGHT/EXPID/exposure-qa-EXPID.rst\n",
    "fiberflat = exposures/[0-9]{8}/[0-9]{8}/fiberflat-[brz][0-9]-[0-9]{8}\\.fits;exposures/NIGHT/EXPID/fiberflat-CAMERA-EXPID.rst\n",
    "fit-psf = exposures/[0-9]{8}/[0-9]{8}/fit-psf-[brz][0-9]-[0-9]{8}\\.fits;exposures/NIGHT/EXPID/fit-psf-CAMERA-EXPID.rst\n",
    "fit-psf-before-blacklisted = exposures/[0-9]{8}/[0-9]{8}/fit-psf-before-blacklisted-[brz][0-9]-[0-9]{8}\\.fits;exposures/NIGHT/EXPID/fit-psf-before-blacklisted-CAMERA-EXPID.rst\n",
    "fit-psf-before-blacklisted-fix = exposures/[0-9]{8}/[0-9]{8}/fit-psf-before-blacklisted-fix-[brz][0-9]-[0-9]{8}\\.fits;exposures/NIGHT/EXPID/fit-psf-before-blacklisted-fix-CAMERA-EXPID.rst\n",
    "fit-psf-fixed-blacklisted = exposures/[0-9]{8}/[0-9]{8}/fit-psf-fixed-blacklisted-[brz][0-9]-[0-9]{8}\\.fits;exposures/NIGHT/EXPID/fit-psf-fixed-blacklisted-CAMERA-EXPID.rst\n",
    "fluxcalib = exposures/[0-9]{8}/[0-9]{8}/fluxcalib-[brz][0-9]-[0-9]{8}\\.fits;exposures/NIGHT/EXPID/fluxcalib-CAMERA-EXPID.rst\n",
    "frame = exposures/[0-9]{8}/[0-9]{8}/frame-[brz][0-9]-[0-9]{8}\\.fits;exposures/NIGHT/EXPID/frame-CAMERA-EXPID.rst\n",
    "psf = exposures/[0-9]{8}/[0-9]{8}/psf-[brz][0-9]-[0-9]{8}\\.fits;exposures/NIGHT/EXPID/psf-CAMERA-EXPID.rst\n",
    "sframe = exposures/[0-9]{8}/[0-9]{8}/sframe-[brz][0-9]-[0-9]{8}\\.fits;exposures/NIGHT/EXPID/sframe-CAMERA-EXPID.rst\n",
    "shifted-input-psf = exposures/[0-9]{8}/[0-9]{8}/shifted-input-psf-[brz][0-9]-[0-9]{8}\\.fits;exposures/NIGHT/EXPID/shifted-input-psf-CAMERA-EXPID.rst\n",
    "sky = exposures/[0-9]{8}/[0-9]{8}/sky-[brz][0-9]-[0-9]{8}\\.fits;exposures/NIGHT/EXPID/sky-CAMERA-EXPID.rst\n",
    "stdstars = exposures/[0-9]{8}/[0-9]{8}/stdstars-[0-9]-[0-9]{8}\\.fits;exposures/NIGHT/EXPID/stdstars-SPECTROGRAPH-EXPID.rst\n",
    "\n",
    "[healpix]\n",
    "coadd = healpix/(sv1|sv2|sv3|main)/(backup|bright|dark|other)/[0-9]+/[0-9]+/coadd-(sv1|sv2|sv3|main)-(backup|bright|dark|other)-[0-9]+\\.fits;healpix/SURVEY/PROGRAM/PIXGROUP/PIXNUM/coadd-SURVEY-PROGRAM-PIXNUM.rst\n",
    "qso_mgii = healpix/(sv1|sv2|sv3|main)/(backup|bright|dark|other)/[0-9]+/[0-9]+/qso_mgii-(sv1|sv2|sv3|main)-(backup|bright|dark|other)-[0-9]+\\.fits;healpix/SURVEY/PROGRAM/PIXGROUP/PIXNUM/qso_mgii-SURVEY-PROGRAM-PIXNUM.rst\n",
    "qso_qn = healpix/(sv1|sv2|sv3|main)/(backup|bright|dark|other)/[0-9]+/[0-9]+/qso_qn-(sv1|sv2|sv3|main)-(backup|bright|dark|other)-[0-9]+\\.fits;healpix/SURVEY/PROGRAM/PIXGROUP/PIXNUM/qso_qn-SURVEY-PROGRAM-PIXNUM.rst\n",
    "redrock = healpix/(sv1|sv2|sv3|main)/(backup|bright|dark|other)/[0-9]+/[0-9]+/redrock-(sv1|sv2|sv3|main)-(backup|bright|dark|other)-[0-9]+\\.fits;healpix/SURVEY/PROGRAM/PIXGROUP/PIXNUM/redrock-SURVEY-PROGRAM-PIXNUM.rst\n",
    "spectra = healpix/(sv1|sv2|sv3|main)/(backup|bright|dark|other)/[0-9]+/[0-9]+/spectra-(sv1|sv2|sv3|main)-(backup|bright|dark|other)-[0-9]+\\.fits;healpix/SURVEY/PROGRAM/PIXGROUP/PIXNUM/spectra-SURVEY-PROGRAM-PIXNUM.rst\n",
    "tilepix = healpix/tilepix\\.fits;healpix/tilepix.rst\n",
    "\n",
    "[preproc]\n",
    "fibermap = preproc/[0-9]{8}/[0-9]{8}/fibermap-[0-9]{8}\\.fits;preproc/NIGHT/EXPID/fibermap-EXPID.rst\n",
    "preproc = preproc/[0-9]{8}/[0-9]{8}/preproc-[brz][0-9]-[0-9]{8}\\.fits;preproc/NIGHT/EXPID/preproc-CAMERA-EXPID.rst\n",
    "\n",
    "[tiles]\n",
    "coadd = tiles/(cumulative|perexp|pernight)/[0-9]+/[0-9]{8}/coadd-[0-9]-[0-9]+-(thru|exp|)[0-9]{8}\\.fits;tiles/TILETYPE/TILEID/NIGHT/coadd-SPECTROGRAPH-NIGHT-EXPID.rst\n",
    "qso_mgii = tiles/(cumulative|perexp|pernight)/[0-9]+/[0-9]{8}/qso_mgii-[0-9]-[0-9]+-(thru|exp|)[0-9]{8}\\.fits;tiles/TILETYPE/TILEID/NIGHT/qso_mgii-SPECTROGRAPH-NIGHT-EXPID.rst\n",
    "qso_qn = tiles/(cumulative|perexp|pernight)/[0-9]+/[0-9]{8}/qso_qn-[0-9]-[0-9]+-(thru|exp|)[0-9]{8}\\.fits;tiles/TILETYPE/TILEID/NIGHT/qso_qn-SPECTROGRAPH-NIGHT-EXPID.rst\n",
    "redrock = tiles/(cumulative|perexp|pernight)/[0-9]+/[0-9]{8}/redrock-[0-9]-[0-9]+-(thru|exp|)[0-9]{8}\\.fits;tiles/TILETYPE/TILEID/NIGHT/redrock-SPECTROGRAPH-NIGHT-EXPID.rst\n",
    "spectra = tiles/(cumulative|perexp|pernight)/[0-9]+/[0-9]{8}/spectra-[0-9]-[0-9]+-(thru|exp|)[0-9]{8}\\.fits;tiles/TILETYPE/TILEID/NIGHT/spectra-SPECTROGRAPH-NIGHT-EXPID.rst\n",
    "tile-qa = tiles/(cumulative|perexp|pernight)/[0-9]+/[0-9]{8}/tile-qa-[0-9]+-(thru|exp|)[0-9]{8}\\.fits;tiles/TILETYPE/TILEID/NIGHT/tile-qa-NIGHT-EXPID.rst\n",
    "\n",
    "[tiles:depth]\n",
    "coadd = tiles/[14]x_depth/[0-9]+/[0-9]/coadd-[0-9]-[0-9]+-[14]xsubset[1-6]\\.fits;tiles/DEPTH/TILEID/SPECTROGRAPH/coadd-SPECTROGRAPH-TILEID-EXPID.rst\n",
    "qso_mgii = tiles/[14]x_depth/[0-9]+/[0-9]/qso_mgii-[0-9]-[0-9]+-[14]xsubset[1-6]\\.fits;tiles/DEPTH/TILEID/SPECTROGRAPH/qso_mgii-SPECTROGRAPH-TILEID-EXPID.rst\n",
    "qso_qn = tiles/[14]x_depth/[0-9]+/[0-9]/qso_qn-[0-9]-[0-9]+-[14]xsubset[1-6]\\.fits;tiles/DEPTH/TILEID/SPECTROGRAPH/qso_sn-SPECTROGRAPH-TILEID-EXPID.rst\n",
    "redrock = tiles/[14]x_depth/[0-9]+/[0-9]/redrock-[0-9]-[0-9]+-[14]xsubset[1-6]\\.fits;tiles/DEPTH/TILEID/SPECTROGRAPH/redrock-SPECTROGRAPH-TILEID-EXPID.rst\n",
    "spectra = tiles/[14]x_depth/[0-9]+/[0-9]/spectra-[0-9]-[0-9]+-[14]xsubset[1-6]\\.fits;tiles/DEPTH/TILEID/SPECTROGRAPH/spectra-SPECTROGRAPH-TILEID-EXPID.rst\n",
    "\n",
    "[zcatalog]\n",
    "zpix = zcatalog/zpix-(sv1|sv2|sv3|main)-(backup|bright|dark|other)\\.fits;zcatalog/zpix-SURVEY-PROGRAM.rst\n",
    "ztile = zcatalog/ztile-(sv1|sv2|sv3|main)-(backup|bright|dark|other)-(cumulative|pernight)\\.fits;zcatalog/ztile-SURVEY-PROGRAM-TILETYPE.rst\n",
    "\n",
    "[exclude]\n",
    "calibnight = calibnight/[0-9]{8}/tmp/*;dummy\n",
    "exposures = exposures/[0-9]{8}/old/*;dummy\n",
    "preproc = preproc/[0-9]{8}/old/*;dummy\n",
    "\"\"\"\n",
    "    )\n"
   ]
  },
  {
   "cell_type": "markdown",
   "id": "bd7d22d9-ba0e-4749-b6ca-80c64cddb5bd",
   "metadata": {},
   "source": [
    "## Precompile Regular Expressions"
   ]
  },
  {
   "cell_type": "code",
   "execution_count": 4,
   "id": "e18804b8-a849-455e-a00b-eff99d43df42",
   "metadata": {},
   "outputs": [],
   "source": [
    "r = dict()\n",
    "structure = dict()\n",
    "for s in parser.sections():\n",
    "    r[s] = dict()\n",
    "    structure[s] = dict()\n",
    "    for key, value in parser.items(s):\n",
    "        v = value.split(';')\n",
    "        r[s][key] = re.compile(v[0])\n",
    "        structure[s][key] = v[1]"
   ]
  },
  {
   "cell_type": "markdown",
   "id": "163d38a1-3abe-4b32-a30c-ffc8259a25dd",
   "metadata": {},
   "source": [
    "## Scan the list of files"
   ]
  },
  {
   "cell_type": "code",
   "execution_count": 5,
   "id": "e83d5c30-162e-47a1-8f0d-47a88cf3ff41",
   "metadata": {},
   "outputs": [],
   "source": [
    "with open(fits_files) as e:\n",
    "    data = e.readlines()\n",
    "data.append(f'exposures-{specprod}.fits\\n')\n",
    "scanable = dict()\n",
    "for file in data:\n",
    "    ff = file.strip()\n",
    "    f = ff.split('/')\n",
    "    if len(f) == 1:\n",
    "        section = 'top'\n",
    "    elif f[1] == '1x_depth' or f[1] == '4x_depth':\n",
    "        section = 'tiles:depth'\n",
    "    else:\n",
    "        section = f[0]\n",
    "    if section not in scanable:\n",
    "        scanable[section] = dict()\n",
    "    excluded = False\n",
    "    for key in r['exclude']:\n",
    "        m = r['exclude'][key].match(ff)\n",
    "        if m is not None:\n",
    "            excluded = True\n",
    "    if excluded:\n",
    "        continue\n",
    "    matched = False\n",
    "    for key in r[section]:\n",
    "        m = r[section][key].match(ff)\n",
    "        if m is not None:\n",
    "            matched = True\n",
    "            if key in scanable[section]:\n",
    "                scanable[section][key].append(ff)\n",
    "            else:\n",
    "                scanable[section][key] = [ff]\n",
    "    if matched:\n",
    "        continue\n",
    "    print(\"ERROR: Could not match {0}!\".format(ff))"
   ]
  },
  {
   "cell_type": "markdown",
   "id": "ec3b79a0-ff64-46fe-896c-c36219608ab3",
   "metadata": {},
   "source": [
    "## From the list of all file types, pick one at random"
   ]
  },
  {
   "cell_type": "code",
   "execution_count": 6,
   "id": "cf6ecb9e-225c-442b-b3f4-b3c84af79a22",
   "metadata": {},
   "outputs": [
    {
     "data": {
      "text/plain": [
       "{'calibnight': {'fiberflatnight': 'calibnight/20201217/fiberflatnight-b7-20201217.fits',\n",
       "  'psfnight': 'calibnight/20210613/psfnight-z8-20210613.fits'},\n",
       " 'exposures': {'frame': 'exposures/20210223/00077755/frame-b7-00077755.fits',\n",
       "  'psf': 'exposures/20210508/00087725/psf-b6-00087725.fits',\n",
       "  'fiberflat': 'exposures/20210105/00070882/fiberflat-z9-00070882.fits',\n",
       "  'sky': 'exposures/20210517/00089018/sky-r3-00089018.fits',\n",
       "  'sframe': 'exposures/20210327/00082471/sframe-r9-00082471.fits',\n",
       "  'cframe': 'exposures/20210223/00077777/cframe-z9-00077777.fits',\n",
       "  'fluxcalib': 'exposures/20210106/00071111/fluxcalib-r2-00071111.fits',\n",
       "  'stdstars': 'exposures/20210705/00097549/stdstars-0-00097549.fits',\n",
       "  'shifted-input-psf': 'exposures/20210605/00091227/shifted-input-psf-b3-00091227.fits',\n",
       "  'fit-psf': 'exposures/20210309/00079816/fit-psf-r7-00079816.fits',\n",
       "  'fit-psf-before-blacklisted-fix': 'exposures/20210424/00086211/fit-psf-before-blacklisted-fix-z4-00086211.fits',\n",
       "  'fit-psf-fixed-blacklisted': 'exposures/20201215/00067919/fit-psf-fixed-blacklisted-r3-00067919.fits',\n",
       "  'exposure-qa': 'exposures/20210514/00088364/exposure-qa-00088364.fits'},\n",
       " 'healpix': {'qso_qn': 'healpix/main/dark/93/9377/qso_qn-main-dark-9377.fits',\n",
       "  'spectra': 'healpix/sv1/backup/120/12081/spectra-sv1-backup-12081.fits',\n",
       "  'qso_mgii': 'healpix/sv1/dark/68/6860/qso_mgii-sv1-dark-6860.fits',\n",
       "  'coadd': 'healpix/sv1/dark/388/38863/coadd-sv1-dark-38863.fits',\n",
       "  'redrock': 'healpix/main/bright/260/26006/redrock-main-bright-26006.fits',\n",
       "  'tilepix': 'healpix/tilepix.fits'},\n",
       " 'preproc': {'preproc': 'preproc/20210624/00095882/preproc-b1-00095882.fits',\n",
       "  'fibermap': 'preproc/20210322/00081528/fibermap-00081528.fits'},\n",
       " 'tiles:depth': {'qso_qn': 'tiles/1x_depth/80609/6/qso_qn-2-80609-1xsubset6.fits',\n",
       "  'spectra': 'tiles/1x_depth/80606/3/spectra-8-80606-1xsubset3.fits',\n",
       "  'redrock': 'tiles/1x_depth/80610/1/redrock-7-80610-1xsubset1.fits',\n",
       "  'coadd': 'tiles/1x_depth/80607/3/coadd-2-80607-1xsubset3.fits',\n",
       "  'qso_mgii': 'tiles/1x_depth/80605/5/qso_mgii-6-80605-1xsubset5.fits'},\n",
       " 'tiles': {'redrock': 'tiles/perexp/80617/00069403/redrock-0-80617-exp00069403.fits',\n",
       "  'coadd': 'tiles/cumulative/545/20210510/coadd-2-545-thru20210510.fits',\n",
       "  'spectra': 'tiles/perexp/104/00084352/spectra-4-104-exp00084352.fits',\n",
       "  'qso_mgii': 'tiles/cumulative/1816/20210614/qso_mgii-6-1816-thru20210614.fits',\n",
       "  'qso_qn': 'tiles/pernight/80669/20210107/qso_qn-0-80669-20210107.fits',\n",
       "  'tile-qa': 'tiles/cumulative/20096/20210608/tile-qa-20096-thru20210608.fits'},\n",
       " 'zcatalog': {'zpix': 'zcatalog/zpix-sv1-other.fits',\n",
       "  'ztile': 'zcatalog/ztile-sv2-backup-cumulative.fits'},\n",
       " 'top': {'exposures': 'exposures-everest.fits'}}"
      ]
     },
     "execution_count": 6,
     "metadata": {},
     "output_type": "execute_result"
    }
   ],
   "source": [
    "scan = dict()\n",
    "for section in scanable:\n",
    "    scan[section] = dict()\n",
    "    for ftype in scanable[section]:\n",
    "        scan[section][ftype] = choice(scanable[section][ftype])\n",
    "scan"
   ]
  },
  {
   "cell_type": "markdown",
   "id": "e32c6af3-be8b-4e7d-81bd-e973ed6ed653",
   "metadata": {},
   "source": [
    "## Run fitsverify on the chosen files"
   ]
  },
  {
   "cell_type": "code",
   "execution_count": null,
   "id": "ca5e689d-2d0d-4472-a93e-ec9a9e34191f",
   "metadata": {},
   "outputs": [],
   "source": [
    "for section in scan:\n",
    "    for key in scan[section]:\n",
    "        command = ['fitsverify', '-l', scan[section][key]]\n",
    "        proc = sp.Popen(command, stdout=sp.PIPE, stderr=sp.PIPE, cwd=specprod_path)\n",
    "        out, err = proc.communicate()\n",
    "        # print(section, key, out.decode('ascii').split('\\n')[-2])\n",
    "        result = out.decode('ascii').split('\\n')[-2]\n",
    "        if result == \"**** Verification found 0 warning(s) and 0 error(s). ****\":\n",
    "            pass\n",
    "            # print(section, key, \"No problems detected.\")\n",
    "        else:\n",
    "            print(section, key, \"Problems detected!\")\n",
    "            print(out.decode('ascii'))\n",
    "            if err:\n",
    "                print(err.decode('ascii'))"
   ]
  },
  {
   "cell_type": "markdown",
   "id": "e768253a-35c6-4f86-b01c-61d3b3e672ef",
   "metadata": {},
   "source": [
    "## Generate datamodel stub files on all chosen files"
   ]
  },
  {
   "cell_type": "code",
   "execution_count": 7,
   "id": "ba58b3e5-db16-4ce4-b1d1-a3bbd68cf15a",
   "metadata": {},
   "outputs": [
    {
     "name": "stdout",
     "output_type": "stream",
     "text": [
      "generate_model /global/cfs/cdirs/desi/spectro/redux/everest/calibnight/20201217/fiberflatnight-b7-20201217.fits\n",
      "os.makedirs('calibnight/NIGHT')\n",
      "shutil.move('fiberflatnight.rst', 'calibnight/NIGHT/fiberflatnight-CAMERA-EXPID.rst'\n",
      "generate_model /global/cfs/cdirs/desi/spectro/redux/everest/calibnight/20210613/psfnight-z8-20210613.fits\n",
      "shutil.move('psfnight.rst', 'calibnight/NIGHT/psfnight-CAMERA-EXPID.rst'\n",
      "generate_model /global/cfs/cdirs/desi/spectro/redux/everest/exposures/20210223/00077755/frame-b7-00077755.fits\n",
      "os.makedirs('exposures/NIGHT/EXPID')\n",
      "shutil.move('frame.rst', 'exposures/NIGHT/EXPID/frame-CAMERA-EXPID.rst'\n",
      "generate_model /global/cfs/cdirs/desi/spectro/redux/everest/exposures/20210508/00087725/psf-b6-00087725.fits\n",
      "shutil.move('psf.rst', 'exposures/NIGHT/EXPID/psf-CAMERA-EXPID.rst'\n",
      "generate_model /global/cfs/cdirs/desi/spectro/redux/everest/exposures/20210105/00070882/fiberflat-z9-00070882.fits\n",
      "shutil.move('fiberflat.rst', 'exposures/NIGHT/EXPID/fiberflat-CAMERA-EXPID.rst'\n",
      "generate_model /global/cfs/cdirs/desi/spectro/redux/everest/exposures/20210517/00089018/sky-r3-00089018.fits\n",
      "shutil.move('sky.rst', 'exposures/NIGHT/EXPID/sky-CAMERA-EXPID.rst'\n",
      "generate_model /global/cfs/cdirs/desi/spectro/redux/everest/exposures/20210327/00082471/sframe-r9-00082471.fits\n",
      "shutil.move('sframe.rst', 'exposures/NIGHT/EXPID/sframe-CAMERA-EXPID.rst'\n",
      "generate_model /global/cfs/cdirs/desi/spectro/redux/everest/exposures/20210223/00077777/cframe-z9-00077777.fits\n",
      "shutil.move('cframe.rst', 'exposures/NIGHT/EXPID/cframe-CAMERA-EXPID.rst'\n",
      "generate_model /global/cfs/cdirs/desi/spectro/redux/everest/exposures/20210106/00071111/fluxcalib-r2-00071111.fits\n",
      "shutil.move('fluxcalib.rst', 'exposures/NIGHT/EXPID/fluxcalib-CAMERA-EXPID.rst'\n",
      "generate_model /global/cfs/cdirs/desi/spectro/redux/everest/exposures/20210705/00097549/stdstars-0-00097549.fits\n",
      "shutil.move('stdstars.rst', 'exposures/NIGHT/EXPID/stdstars-SPECTROGRAPH-EXPID.rst'\n",
      "generate_model /global/cfs/cdirs/desi/spectro/redux/everest/exposures/20210605/00091227/shifted-input-psf-b3-00091227.fits\n",
      "shutil.move('shifted.rst', 'exposures/NIGHT/EXPID/shifted-input-psf-CAMERA-EXPID.rst'\n",
      "generate_model /global/cfs/cdirs/desi/spectro/redux/everest/exposures/20210309/00079816/fit-psf-r7-00079816.fits\n",
      "shutil.move('fit.rst', 'exposures/NIGHT/EXPID/fit-psf-CAMERA-EXPID.rst'\n",
      "generate_model /global/cfs/cdirs/desi/spectro/redux/everest/exposures/20210424/00086211/fit-psf-before-blacklisted-fix-z4-00086211.fits\n",
      "shutil.move('fit.rst', 'exposures/NIGHT/EXPID/fit-psf-before-blacklisted-fix-CAMERA-EXPID.rst'\n",
      "generate_model /global/cfs/cdirs/desi/spectro/redux/everest/exposures/20201215/00067919/fit-psf-fixed-blacklisted-r3-00067919.fits\n",
      "shutil.move('fit.rst', 'exposures/NIGHT/EXPID/fit-psf-fixed-blacklisted-CAMERA-EXPID.rst'\n",
      "generate_model /global/cfs/cdirs/desi/spectro/redux/everest/exposures/20210514/00088364/exposure-qa-00088364.fits\n",
      "ERROR: Could not find file corresponding to exposure-qa.rst -> exposures/20210514/00088364/exposure-qa-00088364.fits!\n",
      "generate_model /global/cfs/cdirs/desi/spectro/redux/everest/healpix/main/dark/93/9377/qso_qn-main-dark-9377.fits\n",
      "os.makedirs('healpix/SURVEY/PROGRAM/PIXGROUP/PIXNUM')\n",
      "shutil.move('qso_qn.rst', 'healpix/SURVEY/PROGRAM/PIXGROUP/PIXNUM/qso_qn-SURVEY-PROGRAM-PIXNUM.rst'\n",
      "generate_model /global/cfs/cdirs/desi/spectro/redux/everest/healpix/sv1/backup/120/12081/spectra-sv1-backup-12081.fits\n",
      "shutil.move('spectra.rst', 'healpix/SURVEY/PROGRAM/PIXGROUP/PIXNUM/spectra-SURVEY-PROGRAM-PIXNUM.rst'\n",
      "generate_model /global/cfs/cdirs/desi/spectro/redux/everest/healpix/sv1/dark/68/6860/qso_mgii-sv1-dark-6860.fits\n",
      "shutil.move('qso_mgii.rst', 'healpix/SURVEY/PROGRAM/PIXGROUP/PIXNUM/qso_mgii-SURVEY-PROGRAM-PIXNUM.rst'\n",
      "generate_model /global/cfs/cdirs/desi/spectro/redux/everest/healpix/sv1/dark/388/38863/coadd-sv1-dark-38863.fits\n",
      "shutil.move('coadd.rst', 'healpix/SURVEY/PROGRAM/PIXGROUP/PIXNUM/coadd-SURVEY-PROGRAM-PIXNUM.rst'\n",
      "generate_model /global/cfs/cdirs/desi/spectro/redux/everest/healpix/main/bright/260/26006/redrock-main-bright-26006.fits\n",
      "shutil.move('redrock.rst', 'healpix/SURVEY/PROGRAM/PIXGROUP/PIXNUM/redrock-SURVEY-PROGRAM-PIXNUM.rst'\n",
      "generate_model /global/cfs/cdirs/desi/spectro/redux/everest/healpix/tilepix.fits\n",
      "shutil.move('tilepix.rst', 'healpix/tilepix.rst'\n",
      "generate_model /global/cfs/cdirs/desi/spectro/redux/everest/preproc/20210624/00095882/preproc-b1-00095882.fits\n",
      "os.makedirs('preproc/NIGHT/EXPID')\n",
      "shutil.move('preproc.rst', 'preproc/NIGHT/EXPID/preproc-CAMERA-EXPID.rst'\n",
      "generate_model /global/cfs/cdirs/desi/spectro/redux/everest/preproc/20210322/00081528/fibermap-00081528.fits\n",
      "shutil.move('fibermap.rst', 'preproc/NIGHT/EXPID/fibermap-EXPID.rst'\n",
      "generate_model /global/cfs/cdirs/desi/spectro/redux/everest/tiles/1x_depth/80609/6/qso_qn-2-80609-1xsubset6.fits\n",
      "os.makedirs('tiles/DEPTH/TILEID/SPECTROGRAPH')\n",
      "shutil.move('qso_qn.rst', 'tiles/DEPTH/TILEID/SPECTROGRAPH/qso_sn-SPECTROGRAPH-TILEID-EXPID.rst'\n",
      "generate_model /global/cfs/cdirs/desi/spectro/redux/everest/tiles/1x_depth/80606/3/spectra-8-80606-1xsubset3.fits\n",
      "shutil.move('spectra.rst', 'tiles/DEPTH/TILEID/SPECTROGRAPH/spectra-SPECTROGRAPH-TILEID-EXPID.rst'\n",
      "generate_model /global/cfs/cdirs/desi/spectro/redux/everest/tiles/1x_depth/80610/1/redrock-7-80610-1xsubset1.fits\n",
      "shutil.move('redrock.rst', 'tiles/DEPTH/TILEID/SPECTROGRAPH/redrock-SPECTROGRAPH-TILEID-EXPID.rst'\n",
      "generate_model /global/cfs/cdirs/desi/spectro/redux/everest/tiles/1x_depth/80607/3/coadd-2-80607-1xsubset3.fits\n",
      "shutil.move('coadd.rst', 'tiles/DEPTH/TILEID/SPECTROGRAPH/coadd-SPECTROGRAPH-TILEID-EXPID.rst'\n",
      "generate_model /global/cfs/cdirs/desi/spectro/redux/everest/tiles/1x_depth/80605/5/qso_mgii-6-80605-1xsubset5.fits\n",
      "shutil.move('qso_mgii.rst', 'tiles/DEPTH/TILEID/SPECTROGRAPH/qso_mgii-SPECTROGRAPH-TILEID-EXPID.rst'\n",
      "generate_model /global/cfs/cdirs/desi/spectro/redux/everest/tiles/perexp/80617/00069403/redrock-0-80617-exp00069403.fits\n",
      "os.makedirs('tiles/TILETYPE/TILEID/NIGHT')\n",
      "shutil.move('redrock.rst', 'tiles/TILETYPE/TILEID/NIGHT/redrock-SPECTROGRAPH-NIGHT-EXPID.rst'\n",
      "generate_model /global/cfs/cdirs/desi/spectro/redux/everest/tiles/cumulative/545/20210510/coadd-2-545-thru20210510.fits\n",
      "shutil.move('coadd.rst', 'tiles/TILETYPE/TILEID/NIGHT/coadd-SPECTROGRAPH-NIGHT-EXPID.rst'\n",
      "generate_model /global/cfs/cdirs/desi/spectro/redux/everest/tiles/perexp/104/00084352/spectra-4-104-exp00084352.fits\n",
      "shutil.move('spectra.rst', 'tiles/TILETYPE/TILEID/NIGHT/spectra-SPECTROGRAPH-NIGHT-EXPID.rst'\n",
      "generate_model /global/cfs/cdirs/desi/spectro/redux/everest/tiles/cumulative/1816/20210614/qso_mgii-6-1816-thru20210614.fits\n",
      "shutil.move('qso_mgii.rst', 'tiles/TILETYPE/TILEID/NIGHT/qso_mgii-SPECTROGRAPH-NIGHT-EXPID.rst'\n",
      "generate_model /global/cfs/cdirs/desi/spectro/redux/everest/tiles/pernight/80669/20210107/qso_qn-0-80669-20210107.fits\n",
      "shutil.move('qso_qn.rst', 'tiles/TILETYPE/TILEID/NIGHT/qso_qn-SPECTROGRAPH-NIGHT-EXPID.rst'\n",
      "generate_model /global/cfs/cdirs/desi/spectro/redux/everest/tiles/cumulative/20096/20210608/tile-qa-20096-thru20210608.fits\n",
      "shutil.move('tile.rst', 'tiles/TILETYPE/TILEID/NIGHT/tile-qa-NIGHT-EXPID.rst'\n",
      "generate_model /global/cfs/cdirs/desi/spectro/redux/everest/zcatalog/zpix-sv1-other.fits\n",
      "os.makedirs('zcatalog')\n",
      "shutil.move('zpix.rst', 'zcatalog/zpix-SURVEY-PROGRAM.rst'\n",
      "generate_model /global/cfs/cdirs/desi/spectro/redux/everest/zcatalog/ztile-sv2-backup-cumulative.fits\n",
      "shutil.move('ztile.rst', 'zcatalog/ztile-SURVEY-PROGRAM-TILETYPE.rst'\n",
      "generate_model /global/cfs/cdirs/desi/spectro/redux/everest/exposures-everest.fits\n",
      "shutil.move('exposures.rst', 'exposures-SPECPROD.rst'\n"
     ]
    }
   ],
   "source": [
    "for section in scan:\n",
    "    for key in scan[section]:\n",
    "        command = ['generate_model', os.path.join(specprod_path, scan[section][key])]\n",
    "        print(' '.join(command))\n",
    "        proc = sp.Popen(command, stdout=sp.PIPE, stderr=sp.PIPE)\n",
    "        out, err = proc.communicate()\n",
    "        if proc.returncode != 0:\n",
    "            print(out.decode('ascii'))\n",
    "            print(err.decode('ascii'))\n",
    "        if key == 'shifted-input-psf':\n",
    "            src = 'shifted'\n",
    "        elif key == 'fit-psf' or key == 'fit-psf-fixed-blacklisted' or key == 'fit-psf-before-blacklisted-fix':\n",
    "            src = 'fit'\n",
    "        elif key == 'exposure-qa':\n",
    "            src = 'exposure'\n",
    "        elif key == 'tile-qa':\n",
    "            src = 'tile'\n",
    "        else:\n",
    "            src = key\n",
    "        if os.path.exists(f'{src}.rst'):\n",
    "            d = os.path.dirname(structure[section][key])\n",
    "            if d and not os.path.isdir(d):\n",
    "                print(\"os.makedirs('{0}')\".format(d))\n",
    "                os.makedirs(d)\n",
    "            print(\"shutil.move('{0}.rst', '{1}'\".format(src, structure[section][key]))\n",
    "            shutil.move('{0}.rst'.format(src), structure[section][key])\n",
    "        else:\n",
    "            print(\"ERROR: Could not find file corresponding to {0}.rst -> {1}!\".format(src, scan[section][key]))\n",
    "            "
   ]
  },
  {
   "cell_type": "code",
   "execution_count": null,
   "id": "5ba1b9f8-51e7-4de1-8b90-eb9d2db129a1",
   "metadata": {},
   "outputs": [],
   "source": []
  }
 ],
 "metadata": {
  "kernelspec": {
   "display_name": "DESI custom",
   "language": "python",
   "name": "desi-custom"
  },
  "language_info": {
   "codemirror_mode": {
    "name": "ipython",
    "version": 3
   },
   "file_extension": ".py",
   "mimetype": "text/x-python",
   "name": "python",
   "nbconvert_exporter": "python",
   "pygments_lexer": "ipython3",
   "version": "3.8.3"
  }
 },
 "nbformat": 4,
 "nbformat_minor": 5
}
