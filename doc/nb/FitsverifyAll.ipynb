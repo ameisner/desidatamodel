{
 "cells": [
  {
   "cell_type": "markdown",
   "id": "2eb68188-ab2c-4fd1-a8f7-e77658801dba",
   "metadata": {},
   "source": [
    "# Run fitsverify"
   ]
  },
  {
   "cell_type": "code",
   "execution_count": 1,
   "id": "afce0339-a3b0-4630-80b7-7189850462ca",
   "metadata": {},
   "outputs": [],
   "source": [
    "import os\n",
    "import sys\n",
    "import re\n",
    "import subprocess as sp\n",
    "from configparser import ConfigParser\n",
    "from random import choice\n",
    "specprod = 'everest'\n",
    "specprod_path = os.path.join(os.environ['DESI_SPECTRO_REDUX'], specprod)"
   ]
  },
  {
   "cell_type": "markdown",
   "id": "213f4c80-60cd-4ff1-bef8-e77c6d380100",
   "metadata": {},
   "source": [
    "## Create input file"
   ]
  },
  {
   "cell_type": "code",
   "execution_count": 2,
   "id": "9a15009d-7365-48db-befd-3628d2418d00",
   "metadata": {},
   "outputs": [],
   "source": [
    "fits_files = os.path.join(os.environ['CSCRATCH'], f'{specprod}_fits.txt')\n",
    "if not os.path.exists(fits_files):\n",
    "    # os.chdir(specprod_path)\n",
    "    with open(fits_files, 'w') as out:\n",
    "        command = ['find', 'calibnight', 'exposures', 'healpix', 'preproc', 'tiles', 'zcatalog', '-type', 'f', '-name', '*.fits']\n",
    "        proc = sp.Popen(command, stdout=out, stderr=sp.DEVNULL, cwd=specprod_path)\n",
    "        status = proc.wait()"
   ]
  },
  {
   "cell_type": "markdown",
   "id": "1dbbd419-42b0-455b-9dd8-e5e846093ba2",
   "metadata": {},
   "source": [
    "## List of Regular Expressions"
   ]
  },
  {
   "cell_type": "code",
   "execution_count": 3,
   "id": "9c8bbd2c-4d51-4d52-86c9-5c9a85e4d63f",
   "metadata": {},
   "outputs": [],
   "source": [
    "parser = ConfigParser()\n",
    "parser.read_string(\"\"\"\n",
    "[top]\n",
    "exposures = exposures-everest\\.fits\n",
    "\n",
    "[calibnight]\n",
    "fiberflatnight = calibnight/[0-9]{8}/fiberflatnight-[brz][0-9]-[0-9]{8}\\.fits\n",
    "psfnight = calibnight/[0-9]{8}/psfnight-[brz][0-9]-[0-9]{8}\\.fits\n",
    "\n",
    "[exposures]\n",
    "cframe = exposures/[0-9]{8}/[0-9]{8}/cframe-[brz][0-9]-[0-9]{8}\\.fits\n",
    "exposure-qa = exposures/[0-9]{8}/[0-9]{8}/exposure-qa-[0-9]{8}\\.fits\n",
    "fiberflat = exposures/[0-9]{8}/[0-9]{8}/fiberflat-[brz][0-9]-[0-9]{8}\\.fits\n",
    "fit-psf = exposures/[0-9]{8}/[0-9]{8}/fit-psf-[brz][0-9]-[0-9]{8}\\.fits\n",
    "fit-psf-before-blacklisted = exposures/[0-9]{8}/[0-9]{8}/fit-psf-before-blacklisted-[brz][0-9]-[0-9]{8}\\.fits\n",
    "fit-psf-before-blacklisted-fix = exposures/[0-9]{8}/[0-9]{8}/fit-psf-before-blacklisted-fix-[brz][0-9]-[0-9]{8}\\.fits\n",
    "fit-psf-fixed-blacklisted = exposures/[0-9]{8}/[0-9]{8}/fit-psf-fixed-blacklisted-[brz][0-9]-[0-9]{8}\\.fits\n",
    "fluxcalib = exposures/[0-9]{8}/[0-9]{8}/fluxcalib-[brz][0-9]-[0-9]{8}\\.fits\n",
    "frame = exposures/[0-9]{8}/[0-9]{8}/frame-[brz][0-9]-[0-9]{8}\\.fits\n",
    "psf = exposures/[0-9]{8}/[0-9]{8}/psf-[brz][0-9]-[0-9]{8}\\.fits\n",
    "sframe = exposures/[0-9]{8}/[0-9]{8}/sframe-[brz][0-9]-[0-9]{8}\\.fits\n",
    "shifted-input-psf = exposures/[0-9]{8}/[0-9]{8}/shifted-input-psf-[brz][0-9]-[0-9]{8}\\.fits\n",
    "sky = exposures/[0-9]{8}/[0-9]{8}/sky-[brz][0-9]-[0-9]{8}\\.fits\n",
    "stdstars = exposures/[0-9]{8}/[0-9]{8}/stdstars-[0-9]-[0-9]{8}\\.fits\n",
    "\n",
    "[healpix]\n",
    "coadd = healpix/(sv1|sv2|sv3|main)/(backup|bright|dark|other)/[0-9]+/[0-9]+/coadd-(sv1|sv2|sv3|main)-(backup|bright|dark|other)-[0-9]+\\.fits\n",
    "qso_mgii = healpix/(sv1|sv2|sv3|main)/(backup|bright|dark|other)/[0-9]+/[0-9]+/qso_mgii-(sv1|sv2|sv3|main)-(backup|bright|dark|other)-[0-9]+\\.fits\n",
    "qso_qn = healpix/(sv1|sv2|sv3|main)/(backup|bright|dark|other)/[0-9]+/[0-9]+/qso_qn-(sv1|sv2|sv3|main)-(backup|bright|dark|other)-[0-9]+\\.fits\n",
    "redrock = healpix/(sv1|sv2|sv3|main)/(backup|bright|dark|other)/[0-9]+/[0-9]+/redrock-(sv1|sv2|sv3|main)-(backup|bright|dark|other)-[0-9]+\\.fits\n",
    "spectra = healpix/(sv1|sv2|sv3|main)/(backup|bright|dark|other)/[0-9]+/[0-9]+/spectra-(sv1|sv2|sv3|main)-(backup|bright|dark|other)-[0-9]+\\.fits\n",
    "tilepix = healpix/tilepix\\.fits\n",
    "\n",
    "[preproc]\n",
    "fibermap = preproc/[0-9]{8}/[0-9]{8}/fibermap-[0-9]{8}\\.fits\n",
    "preproc = preproc/[0-9]{8}/[0-9]{8}/preproc-[brz][0-9]-[0-9]{8}\\.fits\n",
    "\n",
    "[tiles]\n",
    "coadd = tiles/(cumulative|perexp|pernight)/[0-9]+/[0-9]{8}/coadd-[0-9]-[0-9]+-(thru|exp|)[0-9]{8}\\.fits\n",
    "qso_mgii = tiles/(cumulative|perexp|pernight)/[0-9]+/[0-9]{8}/qso_mgii-[0-9]-[0-9]+-(thru|exp|)[0-9]{8}\\.fits\n",
    "qso_qn = tiles/(cumulative|perexp|pernight)/[0-9]+/[0-9]{8}/qso_qn-[0-9]-[0-9]+-(thru|exp|)[0-9]{8}\\.fits\n",
    "redrock = tiles/(cumulative|perexp|pernight)/[0-9]+/[0-9]{8}/redrock-[0-9]-[0-9]+-(thru|exp|)[0-9]{8}\\.fits\n",
    "spectra = tiles/(cumulative|perexp|pernight)/[0-9]+/[0-9]{8}/spectra-[0-9]-[0-9]+-(thru|exp|)[0-9]{8}\\.fits\n",
    "tile-qa = tiles/(cumulative|perexp|pernight)/[0-9]+/[0-9]{8}/tile-qa-[0-9]+-(thru|exp|)[0-9]{8}\\.fits\n",
    "\n",
    "[tiles:depth]\n",
    "coadd = tiles/[14]x_depth/[0-9]+/[0-9]/coadd-[0-9]-[0-9]+-[14]xsubset[1-6]\\.fits\n",
    "qso_mgii = tiles/[14]x_depth/[0-9]+/[0-9]/qso_mgii-[0-9]-[0-9]+-[14]xsubset[1-6]\\.fits\n",
    "qso_qn = tiles/[14]x_depth/[0-9]+/[0-9]/qso_qn-[0-9]-[0-9]+-[14]xsubset[1-6]\\.fits\n",
    "redrock = tiles/[14]x_depth/[0-9]+/[0-9]/redrock-[0-9]-[0-9]+-[14]xsubset[1-6]\\.fits\n",
    "spectra = tiles/[14]x_depth/[0-9]+/[0-9]/spectra-[0-9]-[0-9]+-[14]xsubset[1-6]\\.fits\n",
    "\n",
    "[zcatalog]\n",
    "zpix = zcatalog/zpix-(sv1|sv2|sv3|main)-(backup|bright|dark|other)\\.fits\n",
    "ztile = zcatalog/ztile-(sv1|sv2|sv3|main)-(backup|bright|dark|other)-(cumulative|pernight)\\.fits\n",
    "\n",
    "[exclude]\n",
    "calibnight = calibnight/[0-9]{8}/tmp/*\n",
    "exposures = exposures/[0-9]{8}/old/*\n",
    "preproc = preproc/[0-9]{8}/old/*\n",
    "\"\"\"\n",
    "    )\n"
   ]
  },
  {
   "cell_type": "markdown",
   "id": "bd7d22d9-ba0e-4749-b6ca-80c64cddb5bd",
   "metadata": {},
   "source": [
    "## Precompile Regular Expressions"
   ]
  },
  {
   "cell_type": "code",
   "execution_count": 5,
   "id": "e18804b8-a849-455e-a00b-eff99d43df42",
   "metadata": {},
   "outputs": [],
   "source": [
    "r = dict()\n",
    "for s in parser.sections():\n",
    "    r[s] = dict()\n",
    "    for key, value in parser.items(s):\n",
    "        r[s][key] = re.compile(value)"
   ]
  },
  {
   "cell_type": "markdown",
   "id": "163d38a1-3abe-4b32-a30c-ffc8259a25dd",
   "metadata": {},
   "source": [
    "## Scan the list of files"
   ]
  },
  {
   "cell_type": "code",
   "execution_count": 6,
   "id": "e83d5c30-162e-47a1-8f0d-47a88cf3ff41",
   "metadata": {},
   "outputs": [],
   "source": [
    "with open(fits_files) as e:\n",
    "    data = e.readlines()\n",
    "data.append(f'exposures-{specprod}.fits\\n')\n",
    "scanable = dict()\n",
    "for file in data:\n",
    "    ff = file.strip()\n",
    "    f = ff.split('/')\n",
    "    if len(f) == 1:\n",
    "        section = 'top'\n",
    "    elif f[1] == '1x_depth' or f[1] == '4x_depth':\n",
    "        section = 'tiles:depth'\n",
    "    else:\n",
    "        section = f[0]\n",
    "    if section not in scanable:\n",
    "        scanable[section] = dict()\n",
    "    excluded = False\n",
    "    for key in r['exclude']:\n",
    "        m = r['exclude'][key].match(ff)\n",
    "        if m is not None:\n",
    "            excluded = True\n",
    "    if excluded:\n",
    "        continue\n",
    "    matched = False\n",
    "    for key in r[section]:\n",
    "        m = r[section][key].match(ff)\n",
    "        if m is not None:\n",
    "            matched = True\n",
    "            if key in scanable[section]:\n",
    "                scanable[section][key].append(ff)\n",
    "            else:\n",
    "                scanable[section][key] = [ff]\n",
    "    if matched:\n",
    "        continue\n",
    "    print(\"ERROR: Could not match {0}!\".format(ff))"
   ]
  },
  {
   "cell_type": "markdown",
   "id": "ec3b79a0-ff64-46fe-896c-c36219608ab3",
   "metadata": {},
   "source": [
    "## From the list of all file types, pick one at random"
   ]
  },
  {
   "cell_type": "code",
   "execution_count": 7,
   "id": "cf6ecb9e-225c-442b-b3f4-b3c84af79a22",
   "metadata": {},
   "outputs": [
    {
     "data": {
      "text/plain": [
       "{'calibnight': {'fiberflatnight': 'calibnight/20210317/fiberflatnight-r1-20210317.fits',\n",
       "  'psfnight': 'calibnight/20210521/psfnight-r2-20210521.fits'},\n",
       " 'exposures': {'frame': 'exposures/20210610/00093280/frame-r2-00093280.fits',\n",
       "  'psf': 'exposures/20210108/00071485/psf-b8-00071485.fits',\n",
       "  'fiberflat': 'exposures/20201218/00068558/fiberflat-b2-00068558.fits',\n",
       "  'sky': 'exposures/20210318/00080968/sky-z8-00080968.fits',\n",
       "  'sframe': 'exposures/20210223/00077765/sframe-b6-00077765.fits',\n",
       "  'cframe': 'exposures/20210102/00070567/cframe-r8-00070567.fits',\n",
       "  'fluxcalib': 'exposures/20210205/00074787/fluxcalib-b2-00074787.fits',\n",
       "  'stdstars': 'exposures/20210506/00087489/stdstars-2-00087489.fits',\n",
       "  'shifted-input-psf': 'exposures/20210411/00084304/shifted-input-psf-b3-00084304.fits',\n",
       "  'fit-psf': 'exposures/20210223/00077648/fit-psf-z7-00077648.fits',\n",
       "  'fit-psf-before-blacklisted-fix': 'exposures/20210616/00094850/fit-psf-before-blacklisted-fix-b3-00094850.fits',\n",
       "  'fit-psf-fixed-blacklisted': 'exposures/20210629/00096625/fit-psf-fixed-blacklisted-z0-00096625.fits',\n",
       "  'exposure-qa': 'exposures/20210503/00087104/exposure-qa-00087104.fits'},\n",
       " 'healpix': {'qso_qn': 'healpix/main/dark/257/25792/qso_qn-main-dark-25792.fits',\n",
       "  'spectra': 'healpix/main/bright/317/31738/spectra-main-bright-31738.fits',\n",
       "  'qso_mgii': 'healpix/sv1/bright/59/5916/qso_mgii-sv1-bright-5916.fits',\n",
       "  'coadd': 'healpix/sv1/other/281/28148/coadd-sv1-other-28148.fits',\n",
       "  'redrock': 'healpix/sv1/dark/71/7107/redrock-sv1-dark-7107.fits',\n",
       "  'tilepix': 'healpix/tilepix.fits'},\n",
       " 'preproc': {'preproc': 'preproc/20201223/00069596/preproc-z7-00069596.fits',\n",
       "  'fibermap': 'preproc/20210322/00081537/fibermap-00081537.fits'},\n",
       " 'tiles:depth': {'qso_qn': 'tiles/1x_depth/80609/3/qso_qn-3-80609-1xsubset3.fits',\n",
       "  'spectra': 'tiles/1x_depth/80605/3/spectra-2-80605-1xsubset3.fits',\n",
       "  'redrock': 'tiles/1x_depth/80609/6/redrock-1-80609-1xsubset6.fits',\n",
       "  'coadd': 'tiles/1x_depth/80606/2/coadd-5-80606-1xsubset2.fits',\n",
       "  'qso_mgii': 'tiles/1x_depth/80609/5/qso_mgii-6-80609-1xsubset5.fits'},\n",
       " 'tiles': {'redrock': 'tiles/cumulative/1247/20210608/redrock-8-1247-thru20210608.fits',\n",
       "  'coadd': 'tiles/pernight/80890/20210404/coadd-8-80890-20210404.fits',\n",
       "  'spectra': 'tiles/perexp/280/00086981/spectra-2-280-exp00086981.fits',\n",
       "  'qso_mgii': 'tiles/cumulative/330/20210412/qso_mgii-9-330-thru20210412.fits',\n",
       "  'qso_qn': 'tiles/perexp/80613/00069609/qso_qn-1-80613-exp00069609.fits',\n",
       "  'tile-qa': 'tiles/cumulative/146/20210504/tile-qa-146-thru20210504.fits'},\n",
       " 'zcatalog': {'zpix': 'zcatalog/zpix-sv3-dark.fits',\n",
       "  'ztile': 'zcatalog/ztile-main-dark-cumulative.fits'},\n",
       " 'top': {'exposures': 'exposures-everest.fits'}}"
      ]
     },
     "execution_count": 7,
     "metadata": {},
     "output_type": "execute_result"
    }
   ],
   "source": [
    "scan = dict()\n",
    "for section in scanable:\n",
    "    scan[section] = dict()\n",
    "    for ftype in scanable[section]:\n",
    "        scan[section][ftype] = choice(scanable[section][ftype])\n",
    "scan"
   ]
  },
  {
   "cell_type": "markdown",
   "id": "e32c6af3-be8b-4e7d-81bd-e973ed6ed653",
   "metadata": {},
   "source": [
    "## Run fitsverify on the chosen files"
   ]
  },
  {
   "cell_type": "code",
   "execution_count": 17,
   "id": "ca5e689d-2d0d-4472-a93e-ec9a9e34191f",
   "metadata": {},
   "outputs": [
    {
     "name": "stdout",
     "output_type": "stream",
     "text": [
      "calibnight fiberflatnight **** Verification found 3 warning(s) and 0 error(s). ****\n",
      "calibnight psfnight **** Verification found 0 warning(s) and 0 error(s). ****\n",
      "exposures frame **** Verification found 12 warning(s) and 5 error(s). ****\n",
      "*** Error:   Keyword #233, SIMPLE is not allowed in extensions.\n",
      "*** Error:   Keyword #610, EXTEND is not allowed in extensions.\n",
      "*** Error:   Keyword #235, BSCALE is not allowed in the Bin/ASCII table.\n",
      "*** Error:   Keyword #234, BZERO is not allowed in the Bin/ASCII table.\n",
      "*** Error:   Keyword #233, SIMPLE is duplicated or out of order.\n",
      "\n",
      "exposures psf **** Verification found 0 warning(s) and 0 error(s). ****\n",
      "exposures fiberflat **** Verification found 6 warning(s) and 4 error(s). ****\n",
      "*** Error:   Keyword #349, SIMPLE is not allowed in extensions.\n",
      "*** Error:   Keyword #351, BSCALE is not allowed in the Bin/ASCII table.\n",
      "*** Error:   Keyword #350, BZERO is not allowed in the Bin/ASCII table.\n",
      "*** Error:   Keyword #349, SIMPLE is duplicated or out of order.\n",
      "\n",
      "exposures sky **** Verification found 4 warning(s) and 0 error(s). ****\n",
      "exposures sframe **** Verification found 10 warning(s) and 5 error(s). ****\n",
      "*** Error:   Keyword #190, SIMPLE is not allowed in extensions.\n",
      "*** Error:   Keyword #536, EXTEND is not allowed in extensions.\n",
      "*** Error:   Keyword #192, BSCALE is not allowed in the Bin/ASCII table.\n",
      "*** Error:   Keyword #191, BZERO is not allowed in the Bin/ASCII table.\n",
      "*** Error:   Keyword #190, SIMPLE is duplicated or out of order.\n",
      "\n",
      "exposures cframe **** Verification found 6 warning(s) and 5 error(s). ****\n",
      "*** Error:   Keyword #191, SIMPLE is not allowed in extensions.\n",
      "*** Error:   Keyword #463, EXTEND is not allowed in extensions.\n",
      "*** Error:   Keyword #193, BSCALE is not allowed in the Bin/ASCII table.\n",
      "*** Error:   Keyword #192, BZERO is not allowed in the Bin/ASCII table.\n",
      "*** Error:   Keyword #191, SIMPLE is duplicated or out of order.\n",
      "\n",
      "exposures fluxcalib **** Verification found 3 warning(s) and 0 error(s). ****\n",
      "exposures stdstars **** Verification found 6 warning(s) and 4 error(s). ****\n",
      "*** Error:   Keyword #188, SIMPLE is not allowed in extensions.\n",
      "*** Error:   Keyword #190, BSCALE is not allowed in the Bin/ASCII table.\n",
      "*** Error:   Keyword #189, BZERO is not allowed in the Bin/ASCII table.\n",
      "*** Error:   Keyword #188, SIMPLE is duplicated or out of order.\n",
      "\n",
      "exposures shifted-input-psf **** Verification found 0 warning(s) and 0 error(s). ****\n",
      "exposures fit-psf **** Verification found 0 warning(s) and 0 error(s). ****\n",
      "exposures fit-psf-before-blacklisted-fix **** Verification found 0 warning(s) and 0 error(s). ****\n",
      "exposures fit-psf-fixed-blacklisted **** Verification found 0 warning(s) and 0 error(s). ****\n",
      "exposures exposure-qa **** Verification found 0 warning(s) and 0 error(s). ****\n",
      "healpix qso_qn **** Verification found 0 warning(s) and 0 error(s). ****\n",
      "healpix spectra **** Verification found 0 warning(s) and 0 error(s). ****\n",
      "healpix qso_mgii **** Verification found 0 warning(s) and 0 error(s). ****\n",
      "healpix coadd **** Verification found 0 warning(s) and 0 error(s). ****\n",
      "healpix redrock **** Verification found 0 warning(s) and 0 error(s). ****\n",
      "healpix tilepix **** Verification found 0 warning(s) and 0 error(s). ****\n",
      "preproc preproc **** Verification found 8 warning(s) and 5 error(s). ****\n",
      "*** Error:   Keyword #189, SIMPLE is not allowed in extensions.\n",
      "*** Error:   Keyword #461, EXTEND is not allowed in extensions.\n",
      "*** Error:   Keyword #191, BSCALE is not allowed in the Bin/ASCII table.\n",
      "*** Error:   Keyword #190, BZERO is not allowed in the Bin/ASCII table.\n",
      "*** Error:   Keyword #189, SIMPLE is duplicated or out of order.\n",
      "\n",
      "preproc fibermap **** Verification found 7 warning(s) and 5 error(s). ****\n",
      "*** Error:   Keyword #202, SIMPLE is not allowed in extensions.\n",
      "*** Error:   Keyword #554, EXTEND is not allowed in extensions.\n",
      "*** Error:   Keyword #204, BSCALE is not allowed in the Bin/ASCII table.\n",
      "*** Error:   Keyword #203, BZERO is not allowed in the Bin/ASCII table.\n",
      "*** Error:   Keyword #202, SIMPLE is duplicated or out of order.\n",
      "\n",
      "tiles:depth qso_qn **** Verification found 0 warning(s) and 0 error(s). ****\n",
      "tiles:depth spectra **** Verification found 0 warning(s) and 0 error(s). ****\n",
      "tiles:depth redrock **** Verification found 0 warning(s) and 0 error(s). ****\n",
      "tiles:depth coadd **** Verification found 0 warning(s) and 0 error(s). ****\n",
      "tiles:depth qso_mgii **** Verification found 0 warning(s) and 0 error(s). ****\n",
      "tiles redrock **** Verification found 0 warning(s) and 0 error(s). ****\n",
      "tiles coadd **** Verification found 0 warning(s) and 0 error(s). ****\n",
      "tiles spectra **** Verification found 0 warning(s) and 0 error(s). ****\n",
      "tiles qso_mgii **** Verification found 0 warning(s) and 0 error(s). ****\n",
      "tiles qso_qn **** Verification found 0 warning(s) and 0 error(s). ****\n",
      "tiles tile-qa **** Verification found 0 warning(s) and 0 error(s). ****\n",
      "zcatalog zpix **** Verification found 0 warning(s) and 0 error(s). ****\n",
      "zcatalog ztile **** Verification found 0 warning(s) and 0 error(s). ****\n",
      "top exposures **** Verification found 0 warning(s) and 0 error(s). ****\n"
     ]
    }
   ],
   "source": [
    "for section in scan:\n",
    "    for key in scan[section]:\n",
    "        command = ['fitsverify', '-l', scan[section][key]]\n",
    "        proc = sp.Popen(command, stdout=sp.PIPE, stderr=sp.PIPE, cwd=specprod_path)\n",
    "        out, err = proc.communicate()\n",
    "        print(section, key, out.decode('ascii').split('\\n')[-2])\n",
    "        if err:\n",
    "            print(err.decode('ascii'))"
   ]
  },
  {
   "cell_type": "code",
   "execution_count": null,
   "id": "05c23bbe-e688-4a2f-b5db-679fe91b66e0",
   "metadata": {},
   "outputs": [],
   "source": []
  }
 ],
 "metadata": {
  "kernelspec": {
   "display_name": "DESI 21.7e",
   "language": "python",
   "name": "desi-21.7e"
  },
  "language_info": {
   "codemirror_mode": {
    "name": "ipython",
    "version": 3
   },
   "file_extension": ".py",
   "mimetype": "text/x-python",
   "name": "python",
   "nbconvert_exporter": "python",
   "pygments_lexer": "ipython3",
   "version": "3.8.3"
  }
 },
 "nbformat": 4,
 "nbformat_minor": 5
}
